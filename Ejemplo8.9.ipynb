{
 "cells": [
  {
   "cell_type": "markdown",
   "metadata": {},
   "source": [
    "# EJEMPLO 8.9: ENERGIA DEL ESTADO FUNDAMENTAL EN UNA CAJA CUADRADA\n",
    "\n",
    "Vamos a calcular la energia del estado fundamental de un electron en un potencial de una caja cuadrada con paredes altas indefinidas separas una distancia $L$ igual al radio de Bohr $a_{0}=5.292 \\times 10^{-11} m$. Aqui hay un prgrama para hacer el calculo usando el metodo de la secante:"
   ]
  },
  {
   "cell_type": "code",
   "execution_count": 8,
   "metadata": {},
   "outputs": [
    {
     "name": "stdout",
     "output_type": "stream",
     "text": [
      "E = 134.28637169369105 eV\n"
     ]
    }
   ],
   "source": [
    "from numpy import array, arange\n",
    "\n",
    "# Constantes\n",
    "m = 9.1094e-31      # Masa del electron\n",
    "hbar = 1.0546e-34   # Constante de Planck sobre 2*pi\n",
    "e = 1.6022e-19      # Carga del electron\n",
    "L= 5.2918e-11      # Radio de Bohr\n",
    "N = 1000\n",
    "h = L/N\n",
    "\n",
    "# Funcion Potencial\n",
    "def V(x):\n",
    "    return 0.0\n",
    "\n",
    "def f(r,x,E):\n",
    "    psi = r[0]\n",
    "    phi = r[1]\n",
    "    fpsi = phi\n",
    "    fphi = (2*m/hbar**2)*(V(x)-E)*psi\n",
    "    return array([fpsi,fphi],float)\n",
    "\n",
    "# Calcular la longitud de onda para una energia particular\n",
    "def solve(E):\n",
    "    psi = 0.0\n",
    "    phi = 1.0\n",
    "    r = array([psi,phi],float)\n",
    "    \n",
    "    for x in arange(0,L,h):\n",
    "        k1 = h*f(r,x,E)\n",
    "        k2 = h*f(r+0.5*k1,x+0.5*h,E)\n",
    "        k3 = h*f(r+0.5*k2,x+0.5*h,E)\n",
    "        k4 = h*f(r+k3,x+h,E)\n",
    "        r += (k1+2*k2+2*k3+k4)/6\n",
    "        \n",
    "    return r[0]\n",
    "\n",
    "# Programa principal para encontrar la energia usando el metodo de la secante\n",
    "E1 = 0.0\n",
    "E2 = e\n",
    "psi2 = solve(E1)\n",
    "\n",
    "target = e/1000\n",
    "while abs(E1-E2)>target:\n",
    "    psi1,psi2 = psi2,solve(E2)\n",
    "    E1,E2 = E2,E2-psi2*(E2-E1)/(psi2-psi1)\n",
    "    \n",
    "print(\"E =\",E2/e,\"eV\")"
   ]
  },
  {
   "cell_type": "markdown",
   "metadata": {},
   "source": [
    "Si corremos el programa, este imprime la energía del estado fundamental por lo tanto:\n",
    "\n",
    "$E = 134.286371694 eV$\n",
    "\n",
    "el cual es en efecto la respuesta correcta. Note que la funcion $V(x)$ no hace nada en estre programa, desde que el potencial en cualquier lugar de la caja sea cero, no juega ningun papel en el calculo. Sin embargo, al incluir la función en el programa hacemos mas facil resolver otro, menos potencial trivial en los problemas de cajas. Por ejemplo, supongamos que potencial dentro de la caja no es cero pero varia como \n",
    "\n",
    "\\begin{equation}\n",
    "    V(x)=V_{0}\\frac{x}{L}\\left ( \\frac{x}{L}-1 \\right ),\n",
    "\\end{equation}\n",
    "\n",
    "donde $V_{0}=100eV$. Es una cuestión simple para resolver la energia del estado fundamental de este problema tambian. Solo debemos cambiar la función $V(x)$, así:"
   ]
  },
  {
   "cell_type": "code",
   "execution_count": 9,
   "metadata": {},
   "outputs": [
    {
     "name": "stdout",
     "output_type": "stream",
     "text": [
      "E = 112.54010720768352 eV\n"
     ]
    }
   ],
   "source": [
    "from numpy import array, arange\n",
    "\n",
    "# Constantes\n",
    "m = 9.1094e-31      # Masa del electron\n",
    "hbar = 1.0546e-34   # Constante de Planck sobre 2*pi\n",
    "e = 1.6022e-19      # Carga del electron\n",
    "L= 5.2918e-11      # Radio de Bohr\n",
    "N = 1000\n",
    "h = L/N\n",
    "V0 = 100*e\n",
    "\n",
    "# Funcion Potencial\n",
    "def V(x):\n",
    "    return V0*(x/L)*(x/L-1)\n",
    "\n",
    "def f(r,x,E):\n",
    "    psi = r[0]\n",
    "    phi = r[1]\n",
    "    fpsi = phi\n",
    "    fphi = (2*m/hbar**2)*(V(x)-E)*psi\n",
    "    return array([fpsi,fphi],float)\n",
    "\n",
    "# Calcular la longitud de onda para una energia particular\n",
    "def solve(E):\n",
    "    psi = 0.0\n",
    "    phi = 1.0\n",
    "    r = array([psi,phi],float)\n",
    "    \n",
    "    for x in arange(0,L,h):\n",
    "        k1 = h*f(r,x,E)\n",
    "        k2 = h*f(r+0.5*k1,x+0.5*h,E)\n",
    "        k3 = h*f(r+0.5*k2,x+0.5*h,E)\n",
    "        k4 = h*f(r+k3,x+h,E)\n",
    "        r += (k1+2*k2+2*k3+k4)/6\n",
    "        \n",
    "    return r[0]\n",
    "\n",
    "# Programa principal para encontrar la energia usando el metodo de la secante\n",
    "E1 = 0.0\n",
    "E2 = e\n",
    "psi2 = solve(E1)\n",
    "\n",
    "target = e/1000\n",
    "while abs(E1-E2)>target:\n",
    "    psi1,psi2 = psi2,solve(E2)\n",
    "    E1,E2 = E2,E2-psi2*(E2-E1)/(psi2-psi1)\n",
    "    \n",
    "print(\"E =\",E2/e,\"eV\")"
   ]
  },
  {
   "cell_type": "markdown",
   "metadata": {},
   "source": [
    "Entonces corremos el programa de nuevo y esta vez encontramos que la energia del estado fundamental es\n",
    "\n",
    "$E = 112.540107208 eV$\n",
    "\n",
    "Aunque el problema original de la caja cuadrada es facil de resolver analiticamente, esta segunda versión del programa con un potencial variable seria mucho mas dificil, and yet a solution is achueved easily using the computer."
   ]
  }
 ],
 "metadata": {
  "kernelspec": {
   "display_name": "Python 3",
   "language": "python",
   "name": "python3"
  },
  "language_info": {
   "codemirror_mode": {
    "name": "ipython",
    "version": 3
   },
   "file_extension": ".py",
   "mimetype": "text/x-python",
   "name": "python",
   "nbconvert_exporter": "python",
   "pygments_lexer": "ipython3",
   "version": "3.7.3"
  }
 },
 "nbformat": 4,
 "nbformat_minor": 2
}
